{
 "cells": [
  {
   "cell_type": "code",
   "execution_count": 1,
   "metadata": {},
   "outputs": [
    {
     "name": "stdout",
     "output_type": "stream",
     "text": [
      "1.0000000000000007\n",
      "2.0000000000000013\n",
      "2.99999999999998\n"
     ]
    }
   ],
   "source": [
    "from enum import Enum\n",
    "from math import *\n",
    "\n",
    "eps = 0.00001\n",
    "q = 0.2\n",
    "step = 0.01\n",
    "\n",
    "class Behavior(Enum):\n",
    "    toX1 = 1\n",
    "    monotonicToX2 = 2\n",
    "    waveToX2 = 3\n",
    "    noConverge = 4\n",
    "\n",
    "def foundR(r, prevStep):\n",
    "    derivateX1 = r\n",
    "    derivateX2 = -r + 2\n",
    "    if (abs(derivateX1) > 1 and abs(derivateX2) > 1):\n",
    "        return\n",
    "    x0 = 0.5\n",
    "    curStep = iterativeApproximation(x0, r)\n",
    "    \n",
    "    if (curStep != prevStep):\n",
    "        print(r)\n",
    "    foundR(r + step, curStep)\n",
    "\n",
    "def comeTogetherToX1(value, r):\n",
    "    return abs(value - 0) < abs(value - (1 - 1 / r))\n",
    "\n",
    "def iterativeApproximation(prev, r):\n",
    "    cur = r * prev * (1 - prev)\n",
    "    increase = False\n",
    "    if (cur > prev):\n",
    "        increase = True\n",
    "    else:\n",
    "        increase = False\n",
    "    monotonic = True\n",
    "    counter = 0\n",
    "    prev = cur\n",
    "    while (True):\n",
    "        if (counter > 1500):\n",
    "            return Behavior.noConverge    \n",
    "        cur = r * prev * (1 - prev)\n",
    "        if (increase):\n",
    "            if (cur <= prev):\n",
    "                monotonic = False\n",
    "        else:\n",
    "            if (cur >= prev):\n",
    "                monotonic = False   \n",
    "        if (q / (1 - q) * abs(cur - prev) < eps):\n",
    "          break\n",
    "        prev = cur\n",
    "        counter += 1\n",
    "\n",
    "    if (comeTogetherToX1(cur, r)):\n",
    "        return Behavior.toX1\n",
    "    else:\n",
    "        if (monotonic):\n",
    "            return Behavior.monotonicToX2\n",
    "        else:\n",
    "            return Behavior.waveToX2\n",
    "    \n",
    "    \n",
    "foundR(step, Behavior.toX1)"
   ]
  },
  {
   "cell_type": "code",
   "execution_count": null,
   "metadata": {},
   "outputs": [],
   "source": []
  }
 ],
 "metadata": {
  "kernelspec": {
   "display_name": "Python 3",
   "language": "python",
   "name": "python3"
  },
  "language_info": {
   "codemirror_mode": {
    "name": "ipython",
    "version": 3
   },
   "file_extension": ".py",
   "mimetype": "text/x-python",
   "name": "python",
   "nbconvert_exporter": "python",
   "pygments_lexer": "ipython3",
   "version": "3.6.8"
  }
 },
 "nbformat": 4,
 "nbformat_minor": 2
}
